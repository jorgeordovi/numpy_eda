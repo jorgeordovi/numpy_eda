{
 "cells": [
  {
   "cell_type": "markdown",
   "metadata": {},
   "source": [
    "// NP ARRAYS"
   ]
  },
  {
   "cell_type": "markdown",
   "metadata": {},
   "source": [
    "Numpy (ND arrrays) N- dimensional functions to develop calculations and mathematical operations with arrays in an efficient manner. (vectorization)\n",
    "Operations of linear algebra , generation of random numbers amongst other fonctionalities of scientific computation."
   ]
  },
  {
   "cell_type": "code",
   "execution_count": 2,
   "metadata": {},
   "outputs": [],
   "source": [
    "import numpy as np"
   ]
  },
  {
   "cell_type": "code",
   "execution_count": 3,
   "metadata": {},
   "outputs": [
    {
     "name": "stdout",
     "output_type": "stream",
     "text": [
      "[1 2 3 4 5 6 7]\n"
     ]
    }
   ],
   "source": [
    "python_list= [1,2,3,4,5,6,7]\n",
    "array=np.array(python_list)\n",
    "print(array)"
   ]
  },
  {
   "cell_type": "code",
   "execution_count": 4,
   "metadata": {},
   "outputs": [
    {
     "data": {
      "text/plain": [
       "array([0, 0, 0, 0, 0, 0, 0, 0, 0, 0])"
      ]
     },
     "execution_count": 4,
     "metadata": {},
     "output_type": "execute_result"
    }
   ],
   "source": [
    "np.zeros(10,dtype=int)"
   ]
  },
  {
   "cell_type": "code",
   "execution_count": 5,
   "metadata": {},
   "outputs": [
    {
     "data": {
      "text/plain": [
       "array([[0., 0.],\n",
       "       [0., 0.],\n",
       "       [0., 0.],\n",
       "       [0., 0.],\n",
       "       [0., 0.],\n",
       "       [0., 0.],\n",
       "       [0., 0.],\n",
       "       [0., 0.],\n",
       "       [0., 0.],\n",
       "       [0., 0.]])"
      ]
     },
     "execution_count": 5,
     "metadata": {},
     "output_type": "execute_result"
    }
   ],
   "source": [
    "np.zeros((10,2),dtype=float)"
   ]
  },
  {
   "cell_type": "code",
   "execution_count": 6,
   "metadata": {},
   "outputs": [
    {
     "data": {
      "text/plain": [
       "array([[1, 1],\n",
       "       [1, 1],\n",
       "       [1, 1],\n",
       "       [1, 1],\n",
       "       [1, 1],\n",
       "       [1, 1],\n",
       "       [1, 1],\n",
       "       [1, 1],\n",
       "       [1, 1],\n",
       "       [1, 1]])"
      ]
     },
     "execution_count": 6,
     "metadata": {},
     "output_type": "execute_result"
    }
   ],
   "source": [
    "np.ones((10,2),int)"
   ]
  },
  {
   "cell_type": "code",
   "execution_count": 11,
   "metadata": {},
   "outputs": [],
   "source": [
    "random_generator=np.random.default_rng()"
   ]
  },
  {
   "cell_type": "code",
   "execution_count": 12,
   "metadata": {},
   "outputs": [
    {
     "name": "stdout",
     "output_type": "stream",
     "text": [
      "Generator(PCG64)\n"
     ]
    }
   ],
   "source": [
    "print(random_generator)"
   ]
  },
  {
   "cell_type": "code",
   "execution_count": null,
   "metadata": {},
   "outputs": [
    {
     "data": {
      "text/plain": [
       "-0.7324403944189068"
      ]
     },
     "execution_count": 13,
     "metadata": {},
     "output_type": "execute_result"
    }
   ],
   "source": [
    "random_generator.normal()\n"
   ]
  },
  {
   "cell_type": "code",
   "execution_count": 14,
   "metadata": {},
   "outputs": [
    {
     "data": {
      "text/plain": [
       "array([ 1.55801328,  0.23978783,  0.93030481, -0.71811055, -0.80713832,\n",
       "        0.09656822,  0.05240114,  0.19419458, -0.57572111,  0.49003974,\n",
       "        0.88012294,  0.76621937])"
      ]
     },
     "execution_count": 14,
     "metadata": {},
     "output_type": "execute_result"
    }
   ],
   "source": [
    "random_generator.normal(loc=0,scale=1,size=12)"
   ]
  },
  {
   "cell_type": "code",
   "execution_count": 15,
   "metadata": {},
   "outputs": [
    {
     "data": {
      "text/plain": [
       "array([-1.33111394,  0.02966523,  0.22331481,  0.55461636, -0.06057773,\n",
       "        0.62889133, -0.49161368,  0.17186932, -2.15120964, -1.29447184,\n",
       "       -2.54682126, -0.16806183,  0.44931263,  1.2240907 ,  1.07979708,\n",
       "       -1.28995444, -0.11822475, -0.06510769, -0.28794181, -0.68110134,\n",
       "       -1.49827932,  0.2383748 ,  0.56837028, -2.19764784, -1.52739472,\n",
       "        0.79888169, -1.09594221, -0.42125919, -0.21726542,  0.67527712,\n",
       "        0.29150625,  0.8049963 , -0.66382449, -2.18010393,  1.61371926,\n",
       "        0.32579606,  1.69552659, -0.10655099, -0.37512745, -0.06259292,\n",
       "        2.21857826, -0.53290411, -0.15365799, -1.34739112,  0.4642633 ,\n",
       "        1.49934763, -0.16323243,  0.1053978 , -0.90544127, -1.85078273,\n",
       "       -2.14154327, -1.18885199,  1.15498642,  0.15048179,  1.17349262,\n",
       "       -0.64383553, -0.71075818,  0.40464436,  1.46837708, -0.86995723,\n",
       "       -1.25243014, -0.2069796 ,  0.17562661, -0.22107778, -0.2254469 ,\n",
       "       -0.72723078, -0.51192385, -0.11423599, -0.33350582,  0.83069893,\n",
       "       -2.46454405,  0.77103099,  2.00397325,  0.47894504,  0.74242802,\n",
       "        2.36388301, -0.16676267,  2.10538941,  0.16122604, -0.4951652 ,\n",
       "       -2.10821115, -1.81142672, -1.72677483,  0.28522767, -0.37638391,\n",
       "        0.47330647, -0.17176665, -0.34311173,  0.80645777, -1.37004679,\n",
       "        0.36833478,  0.5990107 ,  0.20553782,  0.51500234,  0.34549142,\n",
       "       -0.08879424,  0.71962549, -1.98250756,  0.26154696,  1.25772378])"
      ]
     },
     "execution_count": 15,
     "metadata": {},
     "output_type": "execute_result"
    }
   ],
   "source": [
    "random_generator.normal(loc=0,scale=1,size=100)"
   ]
  },
  {
   "cell_type": "code",
   "execution_count": null,
   "metadata": {},
   "outputs": [],
   "source": [
    "\n"
   ]
  }
 ],
 "metadata": {
  "kernelspec": {
   "display_name": "Python 3 (ipykernel)",
   "language": "python",
   "name": "python3"
  },
  "language_info": {
   "codemirror_mode": {
    "name": "ipython",
    "version": 3
   },
   "file_extension": ".py",
   "mimetype": "text/x-python",
   "name": "python",
   "nbconvert_exporter": "python",
   "pygments_lexer": "ipython3",
   "version": "3.10.9"
  }
 },
 "nbformat": 4,
 "nbformat_minor": 2
}
