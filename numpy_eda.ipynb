{
 "cells": [
  {
   "cell_type": "markdown",
   "metadata": {},
   "source": [
    "// NP ARRAYS"
   ]
  },
  {
   "cell_type": "markdown",
   "metadata": {},
   "source": [
    "Numpy (ND arrrays) N- dimensional functions to develop calculations and mathematical operations with arrays in an efficient manner. (vectorization)\n",
    "Operations of linear algebra , generation of random numbers amongst other fonctionalities of scientific computation."
   ]
  },
  {
   "cell_type": "code",
   "execution_count": 48,
   "metadata": {},
   "outputs": [],
   "source": [
    "import numpy as np"
   ]
  },
  {
   "cell_type": "code",
   "execution_count": 49,
   "metadata": {},
   "outputs": [
    {
     "name": "stdout",
     "output_type": "stream",
     "text": [
      "[1 2 3 4 5 6 7]\n"
     ]
    }
   ],
   "source": [
    "python_list= [1,2,3,4,5,6,7]\n",
    "array=np.array(python_list)\n",
    "print(array)"
   ]
  },
  {
   "cell_type": "code",
   "execution_count": 50,
   "metadata": {},
   "outputs": [
    {
     "data": {
      "text/plain": [
       "array([0, 0, 0, 0, 0, 0, 0, 0, 0, 0])"
      ]
     },
     "execution_count": 50,
     "metadata": {},
     "output_type": "execute_result"
    }
   ],
   "source": [
    "np.zeros(10,dtype=int)"
   ]
  },
  {
   "cell_type": "code",
   "execution_count": 51,
   "metadata": {},
   "outputs": [
    {
     "data": {
      "text/plain": [
       "array([[0., 0.],\n",
       "       [0., 0.],\n",
       "       [0., 0.],\n",
       "       [0., 0.],\n",
       "       [0., 0.],\n",
       "       [0., 0.],\n",
       "       [0., 0.],\n",
       "       [0., 0.],\n",
       "       [0., 0.],\n",
       "       [0., 0.]])"
      ]
     },
     "execution_count": 51,
     "metadata": {},
     "output_type": "execute_result"
    }
   ],
   "source": [
    "np.zeros((10,2),dtype=float)"
   ]
  },
  {
   "cell_type": "code",
   "execution_count": 52,
   "metadata": {},
   "outputs": [
    {
     "data": {
      "text/plain": [
       "array([[1, 1],\n",
       "       [1, 1],\n",
       "       [1, 1],\n",
       "       [1, 1],\n",
       "       [1, 1],\n",
       "       [1, 1],\n",
       "       [1, 1],\n",
       "       [1, 1],\n",
       "       [1, 1],\n",
       "       [1, 1]])"
      ]
     },
     "execution_count": 52,
     "metadata": {},
     "output_type": "execute_result"
    }
   ],
   "source": [
    "np.ones((10,2),int)"
   ]
  },
  {
   "cell_type": "code",
   "execution_count": 53,
   "metadata": {},
   "outputs": [],
   "source": [
    "random_generator=np.random.default_rng()"
   ]
  },
  {
   "cell_type": "code",
   "execution_count": 54,
   "metadata": {},
   "outputs": [
    {
     "name": "stdout",
     "output_type": "stream",
     "text": [
      "Generator(PCG64)\n"
     ]
    }
   ],
   "source": [
    "print(random_generator)"
   ]
  },
  {
   "cell_type": "code",
   "execution_count": 55,
   "metadata": {},
   "outputs": [
    {
     "data": {
      "text/plain": [
       "-0.019821749147781346"
      ]
     },
     "execution_count": 55,
     "metadata": {},
     "output_type": "execute_result"
    }
   ],
   "source": [
    "random_generator.normal()\n"
   ]
  },
  {
   "cell_type": "code",
   "execution_count": 56,
   "metadata": {},
   "outputs": [
    {
     "name": "stdout",
     "output_type": "stream",
     "text": [
      "[-0.69818733 -0.28812299  0.51559298  0.39091047  1.41771664  0.78067162\n",
      "  1.00296171  0.73486071  0.47037927 -1.16139821 -1.92664834  0.74761871]\n"
     ]
    }
   ],
   "source": [
    "randin= random_generator.normal(loc=0,scale=1,size=12)\n",
    "print(randin)"
   ]
  },
  {
   "cell_type": "code",
   "execution_count": 57,
   "metadata": {},
   "outputs": [],
   "source": [
    "randin100= random_generator.normal(loc=0,scale=1,size=100)\n"
   ]
  },
  {
   "cell_type": "code",
   "execution_count": 58,
   "metadata": {},
   "outputs": [
    {
     "data": {
      "text/plain": [
       "array([-0.69818733,  0.51559298,  1.41771664,  1.00296171,  0.47037927,\n",
       "       -1.92664834])"
      ]
     },
     "execution_count": 58,
     "metadata": {},
     "output_type": "execute_result"
    }
   ],
   "source": [
    "randin[::2]\n"
   ]
  },
  {
   "cell_type": "code",
   "execution_count": 59,
   "metadata": {},
   "outputs": [
    {
     "name": "stdout",
     "output_type": "stream",
     "text": [
      "[ 1.58191963  1.53908105  0.51964683  0.04777799  0.7010707   0.7764027\n",
      " -0.06532868  0.15647886 -0.5677341  -1.2158461  -0.27082314 -0.79762807\n",
      " -0.93100637  2.47070291 -0.5498342  -0.23941796  0.60255169 -0.61340954\n",
      " -0.75262327  0.96697644  0.02413327 -0.35714113 -0.36277311  0.2720207\n",
      "  0.32328561 -0.23769368  0.86651038  0.98470923 -0.21676774  1.28115853\n",
      "  0.14939904  0.25944404  0.45430563  0.96887439  0.38051635  0.68051807\n",
      " -1.06057568  0.45513967 -0.56500804 -0.64703469  0.26104074  1.18378519\n",
      "  1.26255073 -0.3632434   1.18017245 -0.04191974  1.077482    0.30611327\n",
      "  0.41662241  1.39352803  1.40867877 -0.26515764 -0.62090314  1.00329585\n",
      "  0.09464496  0.38959232  2.07406218 -1.22568727 -0.69197932  0.04190615\n",
      "  0.36803017 -0.4877923   0.64015426  0.00488723 -0.14590424  1.17008378\n",
      "  1.42063077 -0.9674456   0.11962922 -0.13035259  2.68181694 -1.13790497\n",
      " -1.52988524  0.5449083  -0.31801982  1.533904   -0.62082836  0.78537262\n",
      "  0.22416953  0.45916565 -0.32226703 -0.93398893 -0.58305896  0.47647144\n",
      "  1.69110765 -0.03195173 -0.01607834  0.50464524 -1.53724999 -0.42672746\n",
      " -2.43641811 -0.08188048  0.38468906  0.92004082 -0.09903365 -0.04806951\n",
      "  0.32889629  0.36557809  0.27968004  1.19565278]\n"
     ]
    }
   ],
   "source": [
    "print(randin100)"
   ]
  },
  {
   "cell_type": "code",
   "execution_count": 60,
   "metadata": {},
   "outputs": [
    {
     "data": {
      "text/plain": [
       "array([ 1.58191963,  0.51964683,  0.7010707 , -0.06532868, -0.5677341 ,\n",
       "       -0.27082314, -0.93100637, -0.5498342 ,  0.60255169, -0.75262327,\n",
       "        0.02413327, -0.36277311,  0.32328561,  0.86651038, -0.21676774,\n",
       "        0.14939904,  0.45430563,  0.38051635, -1.06057568, -0.56500804,\n",
       "        0.26104074,  1.26255073,  1.18017245,  1.077482  ,  0.41662241,\n",
       "        1.40867877, -0.62090314,  0.09464496,  2.07406218, -0.69197932,\n",
       "        0.36803017,  0.64015426, -0.14590424,  1.42063077,  0.11962922,\n",
       "        2.68181694, -1.52988524, -0.31801982, -0.62082836,  0.22416953,\n",
       "       -0.32226703, -0.58305896,  1.69110765, -0.01607834, -1.53724999,\n",
       "       -2.43641811,  0.38468906, -0.09903365,  0.32889629,  0.27968004])"
      ]
     },
     "execution_count": 60,
     "metadata": {},
     "output_type": "execute_result"
    }
   ],
   "source": [
    "randin100[::2]"
   ]
  },
  {
   "cell_type": "code",
   "execution_count": 61,
   "metadata": {},
   "outputs": [
    {
     "data": {
      "text/plain": [
       "array([ 1.53908105,  0.04777799,  0.7764027 ,  0.15647886, -1.2158461 ,\n",
       "       -0.79762807,  2.47070291, -0.23941796, -0.61340954,  0.96697644,\n",
       "       -0.35714113,  0.2720207 , -0.23769368,  0.98470923,  1.28115853,\n",
       "        0.25944404,  0.96887439,  0.68051807,  0.45513967, -0.64703469,\n",
       "        1.18378519, -0.3632434 , -0.04191974,  0.30611327,  1.39352803,\n",
       "       -0.26515764,  1.00329585,  0.38959232, -1.22568727,  0.04190615,\n",
       "       -0.4877923 ,  0.00488723,  1.17008378, -0.9674456 , -0.13035259,\n",
       "       -1.13790497,  0.5449083 ,  1.533904  ,  0.78537262,  0.45916565,\n",
       "       -0.93398893,  0.47647144, -0.03195173,  0.50464524, -0.42672746,\n",
       "       -0.08188048,  0.92004082, -0.04806951,  0.36557809,  1.19565278])"
      ]
     },
     "execution_count": 61,
     "metadata": {},
     "output_type": "execute_result"
    }
   ],
   "source": [
    "randin100[1::2]"
   ]
  },
  {
   "cell_type": "code",
   "execution_count": 62,
   "metadata": {},
   "outputs": [
    {
     "data": {
      "text/plain": [
       "array([1.58191963, 1.53908105, 0.51964683, 0.04777799])"
      ]
     },
     "execution_count": 62,
     "metadata": {},
     "output_type": "execute_result"
    }
   ],
   "source": [
    "randin100[0:4]"
   ]
  },
  {
   "cell_type": "code",
   "execution_count": 63,
   "metadata": {},
   "outputs": [
    {
     "data": {
      "text/plain": [
       "array([1.58191963, 1.40867877, 1.19565278])"
      ]
     },
     "execution_count": 63,
     "metadata": {},
     "output_type": "execute_result"
    }
   ],
   "source": [
    "list_randin = [0,50,99]\n",
    "randin100[list_randin]"
   ]
  },
  {
   "cell_type": "code",
   "execution_count": 64,
   "metadata": {},
   "outputs": [],
   "source": [
    "random_generator_seed =np.random.default_rng(234444)"
   ]
  },
  {
   "cell_type": "code",
   "execution_count": 65,
   "metadata": {},
   "outputs": [
    {
     "data": {
      "text/plain": [
       "array([[6.31642888, 8.88428445, 2.32222016, 8.29015815],\n",
       "       [6.2049529 , 4.45305267, 3.98661712, 6.51275693],\n",
       "       [4.02671536, 5.7290404 , 9.1184929 , 4.18738454]])"
      ]
     },
     "execution_count": 65,
     "metadata": {},
     "output_type": "execute_result"
    }
   ],
   "source": [
    "low=0\n",
    "high=10\n",
    "size=(3,4)\n",
    "two_d_array=random_generator_seed.uniform(low,high,size)\n",
    "two_d_array"
   ]
  },
  {
   "cell_type": "code",
   "execution_count": 66,
   "metadata": {},
   "outputs": [
    {
     "data": {
      "text/plain": [
       "array([6.2049529 , 4.45305267, 3.98661712, 6.51275693])"
      ]
     },
     "execution_count": 66,
     "metadata": {},
     "output_type": "execute_result"
    }
   ],
   "source": [
    "two_d_array[1,:]"
   ]
  },
  {
   "cell_type": "code",
   "execution_count": 67,
   "metadata": {},
   "outputs": [
    {
     "data": {
      "text/plain": [
       "array([[6.2049529 , 4.45305267, 3.98661712, 6.51275693]])"
      ]
     },
     "execution_count": 67,
     "metadata": {},
     "output_type": "execute_result"
    }
   ],
   "source": [
    "two_d_array[1:2,:]"
   ]
  },
  {
   "cell_type": "code",
   "execution_count": 68,
   "metadata": {},
   "outputs": [
    {
     "data": {
      "text/plain": [
       "array([[ True,  True, False,  True],\n",
       "       [ True, False, False,  True],\n",
       "       [False,  True,  True, False]])"
      ]
     },
     "execution_count": 68,
     "metadata": {},
     "output_type": "execute_result"
    }
   ],
   "source": [
    "mask_5 = two_d_array > 5 \n",
    "mask_5"
   ]
  },
  {
   "cell_type": "code",
   "execution_count": 69,
   "metadata": {},
   "outputs": [
    {
     "data": {
      "text/plain": [
       "array([6.31642888, 8.88428445, 8.29015815, 6.2049529 , 6.51275693,\n",
       "       5.7290404 , 9.1184929 ])"
      ]
     },
     "execution_count": 69,
     "metadata": {},
     "output_type": "execute_result"
    }
   ],
   "source": [
    "two_d_array[mask_5]"
   ]
  },
  {
   "cell_type": "code",
   "execution_count": 70,
   "metadata": {},
   "outputs": [
    {
     "data": {
      "text/plain": [
       "array([5, 7, 8])"
      ]
     },
     "execution_count": 70,
     "metadata": {},
     "output_type": "execute_result"
    }
   ],
   "source": [
    "a=np.array([0,2,5])\n",
    "b=np.array([5,5,3])\n",
    "a+b"
   ]
  },
  {
   "cell_type": "code",
   "execution_count": 71,
   "metadata": {},
   "outputs": [
    {
     "data": {
      "text/plain": [
       "array([5, 6, 7])"
      ]
     },
     "execution_count": 71,
     "metadata": {},
     "output_type": "execute_result"
    }
   ],
   "source": [
    "a=np.array([0,1,2])\n",
    "b=5\n",
    "a+b"
   ]
  },
  {
   "cell_type": "code",
   "execution_count": 72,
   "metadata": {},
   "outputs": [
    {
     "data": {
      "text/plain": [
       "array([[1., 2., 3.],\n",
       "       [1., 2., 3.],\n",
       "       [1., 2., 3.]])"
      ]
     },
     "execution_count": 72,
     "metadata": {},
     "output_type": "execute_result"
    }
   ],
   "source": [
    "a=np.ones((3,3))\n",
    "b=np.array([0,1,2])\n",
    "a+b"
   ]
  },
  {
   "cell_type": "code",
   "execution_count": 73,
   "metadata": {},
   "outputs": [],
   "source": [
    "a=np.array([[0],[1],[2]])"
   ]
  },
  {
   "cell_type": "code",
   "execution_count": 74,
   "metadata": {},
   "outputs": [
    {
     "data": {
      "text/plain": [
       "array([[0],\n",
       "       [1],\n",
       "       [2]])"
      ]
     },
     "execution_count": 74,
     "metadata": {},
     "output_type": "execute_result"
    }
   ],
   "source": [
    "a"
   ]
  },
  {
   "cell_type": "code",
   "execution_count": 75,
   "metadata": {},
   "outputs": [
    {
     "name": "stdout",
     "output_type": "stream",
     "text": [
      "(3, 1)\n"
     ]
    }
   ],
   "source": [
    "print(a.shape)"
   ]
  },
  {
   "cell_type": "code",
   "execution_count": 76,
   "metadata": {},
   "outputs": [
    {
     "name": "stdout",
     "output_type": "stream",
     "text": [
      "(3,)\n"
     ]
    }
   ],
   "source": [
    "b=np.array([1,2,3])\n",
    "print(b.shape)"
   ]
  },
  {
   "cell_type": "code",
   "execution_count": 77,
   "metadata": {},
   "outputs": [
    {
     "data": {
      "text/plain": [
       "array([[1, 2, 3],\n",
       "       [2, 3, 4],\n",
       "       [3, 4, 5]])"
      ]
     },
     "execution_count": 77,
     "metadata": {},
     "output_type": "execute_result"
    }
   ],
   "source": [
    "a+b"
   ]
  },
  {
   "cell_type": "code",
   "execution_count": null,
   "metadata": {},
   "outputs": [],
   "source": []
  }
 ],
 "metadata": {
  "kernelspec": {
   "display_name": "Python 3 (ipykernel)",
   "language": "python",
   "name": "python3"
  },
  "language_info": {
   "codemirror_mode": {
    "name": "ipython",
    "version": 3
   },
   "file_extension": ".py",
   "mimetype": "text/x-python",
   "name": "python",
   "nbconvert_exporter": "python",
   "pygments_lexer": "ipython3",
   "version": "3.10.9"
  }
 },
 "nbformat": 4,
 "nbformat_minor": 2
}
