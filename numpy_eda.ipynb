{
 "cells": [
  {
   "cell_type": "markdown",
   "metadata": {},
   "source": [
    "// NP ARRAYS"
   ]
  },
  {
   "cell_type": "markdown",
   "metadata": {},
   "source": [
    "Numpy (ND arrrays) N- dimensional functions to develop calculations and mathematical operations with arrays in an efficient manner. (vectorization)\n",
    "Operations of linear algebra , generation of random numbers amongst other fonctionalities of scientific computation."
   ]
  },
  {
   "cell_type": "code",
   "execution_count": 2,
   "metadata": {},
   "outputs": [],
   "source": [
    "import numpy as np"
   ]
  },
  {
   "cell_type": "code",
   "execution_count": 3,
   "metadata": {},
   "outputs": [
    {
     "name": "stdout",
     "output_type": "stream",
     "text": [
      "[1 2 3 4 5 6 7]\n"
     ]
    }
   ],
   "source": [
    "python_list= [1,2,3,4,5,6,7]\n",
    "array=np.array(python_list)\n",
    "print(array)"
   ]
  },
  {
   "cell_type": "code",
   "execution_count": 4,
   "metadata": {},
   "outputs": [
    {
     "data": {
      "text/plain": [
       "array([0, 0, 0, 0, 0, 0, 0, 0, 0, 0])"
      ]
     },
     "execution_count": 4,
     "metadata": {},
     "output_type": "execute_result"
    }
   ],
   "source": [
    "np.zeros(10,dtype=int)"
   ]
  },
  {
   "cell_type": "code",
   "execution_count": 5,
   "metadata": {},
   "outputs": [
    {
     "data": {
      "text/plain": [
       "array([[0., 0.],\n",
       "       [0., 0.],\n",
       "       [0., 0.],\n",
       "       [0., 0.],\n",
       "       [0., 0.],\n",
       "       [0., 0.],\n",
       "       [0., 0.],\n",
       "       [0., 0.],\n",
       "       [0., 0.],\n",
       "       [0., 0.]])"
      ]
     },
     "execution_count": 5,
     "metadata": {},
     "output_type": "execute_result"
    }
   ],
   "source": [
    "np.zeros((10,2),dtype=float)"
   ]
  },
  {
   "cell_type": "code",
   "execution_count": 6,
   "metadata": {},
   "outputs": [
    {
     "data": {
      "text/plain": [
       "array([[1, 1],\n",
       "       [1, 1],\n",
       "       [1, 1],\n",
       "       [1, 1],\n",
       "       [1, 1],\n",
       "       [1, 1],\n",
       "       [1, 1],\n",
       "       [1, 1],\n",
       "       [1, 1],\n",
       "       [1, 1]])"
      ]
     },
     "execution_count": 6,
     "metadata": {},
     "output_type": "execute_result"
    }
   ],
   "source": [
    "np.ones((10,2),int)"
   ]
  },
  {
   "cell_type": "code",
   "execution_count": 11,
   "metadata": {},
   "outputs": [],
   "source": [
    "random_generator=np.random.default_rng()"
   ]
  },
  {
   "cell_type": "code",
   "execution_count": 12,
   "metadata": {},
   "outputs": [
    {
     "name": "stdout",
     "output_type": "stream",
     "text": [
      "Generator(PCG64)\n"
     ]
    }
   ],
   "source": [
    "print(random_generator)"
   ]
  },
  {
   "cell_type": "code",
   "execution_count": null,
   "metadata": {},
   "outputs": [
    {
     "data": {
      "text/plain": [
       "-0.7324403944189068"
      ]
     },
     "execution_count": 13,
     "metadata": {},
     "output_type": "execute_result"
    }
   ],
   "source": [
    "random_generator.normal()\n"
   ]
  },
  {
   "cell_type": "code",
   "execution_count": 20,
   "metadata": {},
   "outputs": [
    {
     "name": "stdout",
     "output_type": "stream",
     "text": [
      "[-0.66841629 -0.11531623  0.45199332  0.44509553 -1.50907775  0.08803054\n",
      " -1.27852314  0.89539567 -0.35141261 -0.25050862 -0.82568998 -0.29844911]\n"
     ]
    }
   ],
   "source": [
    "randin= random_generator.normal(loc=0,scale=1,size=12)\n",
    "print(randin)"
   ]
  },
  {
   "cell_type": "code",
   "execution_count": 23,
   "metadata": {},
   "outputs": [],
   "source": [
    "randin100= random_generator.normal(loc=0,scale=1,size=100)\n"
   ]
  },
  {
   "cell_type": "code",
   "execution_count": 21,
   "metadata": {},
   "outputs": [
    {
     "data": {
      "text/plain": [
       "array([-0.66841629,  0.45199332, -1.50907775, -1.27852314, -0.35141261,\n",
       "       -0.82568998])"
      ]
     },
     "execution_count": 21,
     "metadata": {},
     "output_type": "execute_result"
    }
   ],
   "source": [
    "randin[::2]\n"
   ]
  },
  {
   "cell_type": "code",
   "execution_count": 24,
   "metadata": {},
   "outputs": [
    {
     "name": "stdout",
     "output_type": "stream",
     "text": [
      "[ 1.05081754  1.25116587 -0.3078189  -0.96681633  0.38116346  0.58812619\n",
      " -0.46748668  0.79152805 -0.33521527 -1.16869654 -0.0197416   0.54796616\n",
      "  1.32793145 -0.14304202 -0.02107236  1.41220435  0.42608642 -2.24627248\n",
      " -0.72539213 -0.94229159  0.22671897 -0.11978039  0.14074481 -0.65518954\n",
      " -1.00388804 -1.42955666 -0.99815637 -0.08995155 -1.91429167  1.09165709\n",
      "  0.34833294 -0.38214811  0.586396    0.4765948   0.99346613  1.167762\n",
      " -1.11442708  0.40171511  2.46306847  1.79704486  0.25297373 -0.20377387\n",
      "  1.04016375 -0.4239768   0.83287448 -0.05372471 -0.3270871  -0.71830808\n",
      " -1.1014524   0.04328684  1.0316474   1.04740167  0.82565531  0.76167574\n",
      " -2.49627389  0.44500297  0.43940222 -0.82283116  1.05407116  1.81169297\n",
      "  1.16964612 -0.28752125 -0.44758475  0.97017685 -0.96593631  0.73956995\n",
      "  0.11272292 -0.73630442 -0.11651301  0.08692948 -1.38794081  0.13787149\n",
      "  0.36717361  0.55253045 -2.26358028  0.06647032  1.0494234   2.3039466\n",
      "  0.06543151  0.847597    0.05507558 -1.24881181 -1.64148591  0.11960602\n",
      "  0.7372947  -0.28368008 -2.01095408 -0.52099738  0.50647092  0.53069813\n",
      " -0.51464149 -0.96316744 -1.60967378  0.62072585  0.35799207  0.09391681\n",
      " -0.10965716 -0.92958286 -0.01469994 -0.30584397]\n"
     ]
    }
   ],
   "source": [
    "print(randin100)"
   ]
  },
  {
   "cell_type": "code",
   "execution_count": 25,
   "metadata": {},
   "outputs": [
    {
     "data": {
      "text/plain": [
       "array([ 1.05081754, -0.3078189 ,  0.38116346, -0.46748668, -0.33521527,\n",
       "       -0.0197416 ,  1.32793145, -0.02107236,  0.42608642, -0.72539213,\n",
       "        0.22671897,  0.14074481, -1.00388804, -0.99815637, -1.91429167,\n",
       "        0.34833294,  0.586396  ,  0.99346613, -1.11442708,  2.46306847,\n",
       "        0.25297373,  1.04016375,  0.83287448, -0.3270871 , -1.1014524 ,\n",
       "        1.0316474 ,  0.82565531, -2.49627389,  0.43940222,  1.05407116,\n",
       "        1.16964612, -0.44758475, -0.96593631,  0.11272292, -0.11651301,\n",
       "       -1.38794081,  0.36717361, -2.26358028,  1.0494234 ,  0.06543151,\n",
       "        0.05507558, -1.64148591,  0.7372947 , -2.01095408,  0.50647092,\n",
       "       -0.51464149, -1.60967378,  0.35799207, -0.10965716, -0.01469994])"
      ]
     },
     "execution_count": 25,
     "metadata": {},
     "output_type": "execute_result"
    }
   ],
   "source": [
    "randin100[::2]"
   ]
  },
  {
   "cell_type": "code",
   "execution_count": 26,
   "metadata": {},
   "outputs": [
    {
     "data": {
      "text/plain": [
       "array([ 1.25116587, -0.96681633,  0.58812619,  0.79152805, -1.16869654,\n",
       "        0.54796616, -0.14304202,  1.41220435, -2.24627248, -0.94229159,\n",
       "       -0.11978039, -0.65518954, -1.42955666, -0.08995155,  1.09165709,\n",
       "       -0.38214811,  0.4765948 ,  1.167762  ,  0.40171511,  1.79704486,\n",
       "       -0.20377387, -0.4239768 , -0.05372471, -0.71830808,  0.04328684,\n",
       "        1.04740167,  0.76167574,  0.44500297, -0.82283116,  1.81169297,\n",
       "       -0.28752125,  0.97017685,  0.73956995, -0.73630442,  0.08692948,\n",
       "        0.13787149,  0.55253045,  0.06647032,  2.3039466 ,  0.847597  ,\n",
       "       -1.24881181,  0.11960602, -0.28368008, -0.52099738,  0.53069813,\n",
       "       -0.96316744,  0.62072585,  0.09391681, -0.92958286, -0.30584397])"
      ]
     },
     "execution_count": 26,
     "metadata": {},
     "output_type": "execute_result"
    }
   ],
   "source": [
    "randin100[1::2]"
   ]
  },
  {
   "cell_type": "code",
   "execution_count": 29,
   "metadata": {},
   "outputs": [
    {
     "data": {
      "text/plain": [
       "array([ 1.05081754,  1.25116587, -0.3078189 , -0.96681633])"
      ]
     },
     "execution_count": 29,
     "metadata": {},
     "output_type": "execute_result"
    }
   ],
   "source": [
    "randin100[0:4]"
   ]
  },
  {
   "cell_type": "code",
   "execution_count": 31,
   "metadata": {},
   "outputs": [
    {
     "data": {
      "text/plain": [
       "array([ 1.05081754,  1.0316474 , -0.30584397])"
      ]
     },
     "execution_count": 31,
     "metadata": {},
     "output_type": "execute_result"
    }
   ],
   "source": [
    "list_randin = [0,50,99]\n",
    "randin100[list_randin]"
   ]
  },
  {
   "cell_type": "code",
   "execution_count": 32,
   "metadata": {},
   "outputs": [],
   "source": [
    "random_generator_seed =np.random.default_rng(234444)"
   ]
  },
  {
   "cell_type": "code",
   "execution_count": 33,
   "metadata": {},
   "outputs": [
    {
     "data": {
      "text/plain": [
       "array([[6.31642888, 8.88428445, 2.32222016, 8.29015815],\n",
       "       [6.2049529 , 4.45305267, 3.98661712, 6.51275693],\n",
       "       [4.02671536, 5.7290404 , 9.1184929 , 4.18738454]])"
      ]
     },
     "execution_count": 33,
     "metadata": {},
     "output_type": "execute_result"
    }
   ],
   "source": [
    "low=0\n",
    "high=10\n",
    "size=(3,4)\n",
    "two_d_array=random_generator_seed.uniform(low,high,size)\n",
    "two_d_array"
   ]
  },
  {
   "cell_type": "code",
   "execution_count": 38,
   "metadata": {},
   "outputs": [
    {
     "data": {
      "text/plain": [
       "array([6.2049529 , 4.45305267, 3.98661712, 6.51275693])"
      ]
     },
     "execution_count": 38,
     "metadata": {},
     "output_type": "execute_result"
    }
   ],
   "source": [
    "two_d_array[1,:]"
   ]
  },
  {
   "cell_type": "code",
   "execution_count": 39,
   "metadata": {},
   "outputs": [
    {
     "data": {
      "text/plain": [
       "array([[6.2049529 , 4.45305267, 3.98661712, 6.51275693]])"
      ]
     },
     "execution_count": 39,
     "metadata": {},
     "output_type": "execute_result"
    }
   ],
   "source": [
    "two_d_array[1:2,:]"
   ]
  },
  {
   "cell_type": "code",
   "execution_count": 40,
   "metadata": {},
   "outputs": [
    {
     "data": {
      "text/plain": [
       "array([[ True,  True, False,  True],\n",
       "       [ True, False, False,  True],\n",
       "       [False,  True,  True, False]])"
      ]
     },
     "execution_count": 40,
     "metadata": {},
     "output_type": "execute_result"
    }
   ],
   "source": [
    "mask_5 = two_d_array > 5 \n",
    "mask_5"
   ]
  },
  {
   "cell_type": "code",
   "execution_count": 41,
   "metadata": {},
   "outputs": [
    {
     "data": {
      "text/plain": [
       "array([6.31642888, 8.88428445, 8.29015815, 6.2049529 , 6.51275693,\n",
       "       5.7290404 , 9.1184929 ])"
      ]
     },
     "execution_count": 41,
     "metadata": {},
     "output_type": "execute_result"
    }
   ],
   "source": [
    "two_d_array[mask_5]"
   ]
  },
  {
   "cell_type": "code",
   "execution_count": null,
   "metadata": {},
   "outputs": [],
   "source": []
  }
 ],
 "metadata": {
  "kernelspec": {
   "display_name": "Python 3 (ipykernel)",
   "language": "python",
   "name": "python3"
  },
  "language_info": {
   "codemirror_mode": {
    "name": "ipython",
    "version": 3
   },
   "file_extension": ".py",
   "mimetype": "text/x-python",
   "name": "python",
   "nbconvert_exporter": "python",
   "pygments_lexer": "ipython3",
   "version": "3.10.9"
  }
 },
 "nbformat": 4,
 "nbformat_minor": 2
}
